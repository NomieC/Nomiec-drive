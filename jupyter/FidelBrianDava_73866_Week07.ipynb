{
 "cells": [
  {
   "cell_type": "code",
   "execution_count": 1,
   "metadata": {},
   "outputs": [
    {
     "name": "stdout",
     "output_type": "stream",
     "text": [
      "Linear interpolation result: [2.5 3.5 3.5 4. ]\n"
     ]
    }
   ],
   "source": [
    "import numpy as np\n",
    "\n",
    "def my_lin_interp(x, y, X):\n",
    "    Y = np.zeros_like(X) \n",
    "    \n",
    "    for i, x_val in enumerate(X):\n",
    "        idx = np.searchsorted(x, x_val)\n",
    "        \n",
    "        if idx == 0:\n",
    "            Y[i] = y[0] + (y[1] - y[0]) * (x_val - x[0]) / (x[1] - x[0])\n",
    "        elif idx == len(x):\n",
    "            Y[i] = y[-1] + (y[-1] - y[-2]) * (x_val - x[-1]) / (x[-1] - x[-2])\n",
    "        else:\n",
    "            Y[i] = y[idx-1] + (y[idx] - y[idx-1]) * (x_val - x[idx-1]) / (x[idx] - x[idx-1])\n",
    "    \n",
    "    return Y\n",
    "\n",
    "x = np.array([1, 2, 3, 4, 5])\n",
    "y = np.array([2, 3, 4, 3, 5])\n",
    "\n",
    "X = np.array([1.5, 2.5, 3.5, 4.5])\n",
    "\n",
    "Y = my_lin_interp(x, y, X)\n",
    "print(\"Linear interpolation result:\", Y)\n"
   ]
  }
 ],
 "metadata": {
  "kernelspec": {
   "display_name": "Python 3",
   "language": "python",
   "name": "python3"
  },
  "language_info": {
   "codemirror_mode": {
    "name": "ipython",
    "version": 3
   },
   "file_extension": ".py",
   "mimetype": "text/x-python",
   "name": "python",
   "nbconvert_exporter": "python",
   "pygments_lexer": "ipython3",
   "version": "3.9.6"
  }
 },
 "nbformat": 4,
 "nbformat_minor": 2
}
