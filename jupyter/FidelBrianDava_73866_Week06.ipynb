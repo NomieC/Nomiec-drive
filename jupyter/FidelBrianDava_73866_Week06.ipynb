{
 "cells": [
  {
   "cell_type": "code",
   "execution_count": 10,
   "metadata": {},
   "outputs": [
    {
     "name": "stdout",
     "output_type": "stream",
     "text": [
      "Least squares parameters: [ 1.60000000e+00  6.00000000e-01 -4.16202939e-16]\n"
     ]
    }
   ],
   "source": [
    "import numpy as np\n",
    "\n",
    "def my_ls_params(f, x, y):\n",
    "    # Construct the design matrix X\n",
    "    X = np.column_stack([f_i(x) for f_i in f])\n",
    "\n",
    "    # Calculate the least squares solution\n",
    "    beta = np.linalg.lstsq(X, y, rcond=None)[0]\n",
    "\n",
    "    return beta\n",
    "\n",
    "# Example usage:\n",
    "# Define basis functions\n",
    "def f1(x):\n",
    "    return np.ones_like(x)\n",
    "\n",
    "def f2(x):\n",
    "    return x\n",
    "\n",
    "def f3(x):\n",
    "    return x ** 2\n",
    "\n",
    "# Example experimental data\n",
    "x = np.array([1, 2, 3, 4, 5])\n",
    "y = np.array([2, 3, 4, 3, 5])\n",
    "\n",
    "# List of basis functions\n",
    "f = [f1, f2, f3]\n",
    "\n",
    "# Calculate the least squares parameters\n",
    "beta = my_ls_params(f, x, y)\n",
    "print(\"Least squares parameters:\", beta)\n"
   ]
  },
  {
   "cell_type": "markdown",
   "metadata": {},
   "source": []
  }
 ],
 "metadata": {
  "kernelspec": {
   "display_name": "Python 3",
   "language": "python",
   "name": "python3"
  },
  "language_info": {
   "codemirror_mode": {
    "name": "ipython",
    "version": 3
   },
   "file_extension": ".py",
   "mimetype": "text/x-python",
   "name": "python",
   "nbconvert_exporter": "python",
   "pygments_lexer": "ipython3",
   "version": "3.9.6"
  }
 },
 "nbformat": 4,
 "nbformat_minor": 2
}
