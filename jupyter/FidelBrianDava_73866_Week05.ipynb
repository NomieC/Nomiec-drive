{
 "cells": [
  {
   "cell_type": "code",
   "execution_count": 5,
   "metadata": {},
   "outputs": [
    {
     "name": "stdout",
     "output_type": "stream",
     "text": [
      "Eigenvalues: [ 6.16227766 -0.16227766]\n",
      "Eigenvectors:\n",
      " [[ 0.53452248 -0.53452248]\n",
      " [ 0.84515425  0.84515425]]\n",
      "\n",
      "Verification of Ax = λx using the first eigenvector:\n",
      "Left side (Ax):\n",
      " [3.29387596 5.20807518]\n",
      "Right side (λx):\n",
      " [3.29387596 5.20807518]\n",
      "Verification result: True\n"
     ]
    }
   ],
   "source": [
    "import numpy as np\n",
    "\n",
    "# 1. Define matrix A\n",
    "A = np.array([[3, 2],\n",
    "              [5, 3]])\n",
    "\n",
    "# 2. Calculate the eigenvalues and eigenvectors\n",
    "eigenvalues, eigenvectors = np.linalg.eig(A)\n",
    "print(\"Eigenvalues:\", eigenvalues)\n",
    "print(\"Eigenvectors:\\n\", eigenvectors)\n",
    "\n",
    "# 3. Use the first eigenvector to verify Ax = λx\n",
    "x = eigenvectors[:, 0]\n",
    "lambda_val = eigenvalues[0]\n",
    "left_side = np.dot(A, x)\n",
    "right_side = lambda_val * x\n",
    "verification = np.allclose(left_side, right_side)\n",
    "print(\"\\nVerification of Ax = λx using the first eigenvector:\")\n",
    "print(\"Left side (Ax):\\n\", left_side)\n",
    "print(\"Right side (λx):\\n\", right_side)\n",
    "print(\"Verification result:\", verification)\n"
   ]
  }
 ],
 "metadata": {
  "kernelspec": {
   "display_name": "Python 3",
   "language": "python",
   "name": "python3"
  },
  "language_info": {
   "codemirror_mode": {
    "name": "ipython",
    "version": 3
   },
   "file_extension": ".py",
   "mimetype": "text/x-python",
   "name": "python",
   "nbconvert_exporter": "python",
   "pygments_lexer": "ipython3",
   "version": "3.9.6"
  }
 },
 "nbformat": 4,
 "nbformat_minor": 2
}
