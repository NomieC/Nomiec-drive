{
 "cells": [
  {
   "attachments": {
    "image.png": {
     "image/png": "[encoded data removed]"
    }
   },
   "cell_type": "markdown",
   "metadata": {},
   "source": [
    "![image.png](attachment:image.png)\n",
    "<center>\n",
    "    <h3>UJIAN TENGAH SEMESTER GENAP TAHUN AKADEMIK 2023/2024</h3>\n",
    "    <h3>PROGRAM STUDI INFORMATIKA</h3>\n",
    "    <h3>FAKULTAS TEKNIK DAN INFORMATIKA</h3>\n",
    "    <h3>UNIVERSITAS MULTIMEDIA NUSANTARA</h3>\n",
    "</center>\n",
    "\n",
    "---"
   ]
  },
  {
   "cell_type": "markdown",
   "metadata": {},
   "source": [
    "<b>Petunjuk:</b>\n",
    "<ul>\n",
    "    <li>Gunakan file template jawaban UTS ini untuk <b>SOAL B</b></li>\n",
    "    <li>Setiap butir pertanyaan memiliki bobot penilaiannya masing-masing</li>\n",
    "    <li>Usahakan untuk mengerjakan setiap butir pertanyaan sesuai dengan perintah yang diberikan dan di tempat yang disediakan</li>\n",
    "    <li>Tulis nama dan NIM Anda di dalam blok <i>cell</i> di bawah ini! Tampilkan dengan perintah <i>print</i>!</li>\n",
    "</ul>"
   ]
  },
  {
   "cell_type": "code",
   "execution_count": 1,
   "metadata": {},
   "outputs": [
    {
     "name": "stdout",
     "output_type": "stream",
     "text": [
      "Nama:\n",
      "  HABIL PUTRA WARDANA\n",
      "NIM:\n",
      "  00000073909\n"
     ]
    }
   ],
   "source": [
    "# input nama dan nim Anda di sini\n",
    "nama = 'HABIL PUTRA WARDANA'\n",
    "nim = '00000073909'\n",
    "print(f'Nama:\\n  {nama}')\n",
    "print(f'NIM:\\n  {nim}')"
   ]
  },
  {
   "cell_type": "markdown",
   "metadata": {},
   "source": [
    "<u><h3>SOAL 1 (Total Bobot: 20%)</h3></u>\n",
    "Gunakan metode Gauss-Seidel (metode iterative) untuk mendapatkan solusi dari sistem persamaan linear berikut dengan nilai threshold $𝜖=0.0001$:<br>\n",
    "$ 3𝑥_1+𝑥_2−2𝑥_3=2 $<br>\n",
    "$ −2𝑥_1−9𝑥_2-7𝑥_3=5 $<br>\n",
    "$ 𝑥_1+𝑥_2+7x_3=−3 $<br>\n",
    "Jangan lupa untuk mengecek kondisi kekonvergenan terlebih dahulu dengan melihat apakah matriks dominan secara diagonal atau tidak?"
   ]
  },
  {
   "cell_type": "code",
   "execution_count": 2,
   "metadata": {},
   "outputs": [
    {
     "name": "stdout",
     "output_type": "stream",
     "text": [
      "NOT diagonally dominant\n"
     ]
    }
   ],
   "source": [
    "import numpy as np\n",
    "\n",
    "# INPUT THE MATRIX\n",
    "x = np.array([[3, 1, -2],\n",
    "              [-2, -9, -7],\n",
    "              [1, 1, 7]])\n",
    "\n",
    "# Find diagonal coefficients\n",
    "diagonal = np.diag(np.abs(x))\n",
    "\n",
    "# Find row sum without diagonal\n",
    "off_diagonal = np.sum(np.abs(x), axis=1) - diagonal\n",
    "\n",
    "# check the condition\n",
    "if np.all(diagonal > off_diagonal):\n",
    "    print(\"Matrix is diagonally dominant\")\n",
    "else:\n",
    "    print(\"NOT diagonally dominant\")\n",
    "\n"
   ]
  },
  {
   "cell_type": "code",
   "execution_count": 3,
   "metadata": {},
   "outputs": [
    {
     "ename": "IndentationError",
     "evalue": "unexpected indent (3421064803.py, line 16)",
     "output_type": "error",
     "traceback": [
      "\u001b[0;36m  Cell \u001b[0;32mIn[3], line 16\u001b[0;36m\u001b[0m\n\u001b[0;31m    x = np.array([x1, x2, x3])\u001b[0m\n\u001b[0m    ^\u001b[0m\n\u001b[0;31mIndentationError\u001b[0m\u001b[0;31m:\u001b[0m unexpected indent\n"
     ]
    }
   ],
   "source": [
    "x1 = 0\n",
    "x2 = 0\n",
    "x3 = 0\n",
    "epsilon = 0.0001\n",
    "converged = False\n",
    "\n",
    "x_lama = np.array([x1, x2, x3])\n",
    "\n",
    "# metode Gauss-Seidel\n",
    "print(\"iteration results\")\n",
    "print(\" k,   x1,   x2,   x3 \")\n",
    "for k in range(1, 50):\n",
    "    x1 = (2 - x2 + 2*x3)/3\n",
    "x2 = (-5 + 2*x1 + 7*x3)/-9\n",
    "x3 = (-3 - x1 - x2)/7\n",
    "    x = np.array([x1, x2, x3])\n",
    "    \n",
    "    #jika hasil < treshold\n",
    "    dx = np.sqrt(np.dot(x-x_lama, x-x_lama))\n",
    "\n",
    "    print(\"%d, %.4f, %.4f, %.4f\"%(k, x1, x2, x3))\n",
    "    if dx < epsilon:\n",
    "        converged = True\n",
    "        print(\"Konvergen \")\n",
    "        break\n",
    "\n",
    "    x_lama = x\n",
    "\n",
    "if not converged:\n",
    "    print(\"Tidak Konvergen\")\n",
    "\n",
    "\n",
    "\n"
   ]
  },
  {
   "cell_type": "markdown",
   "metadata": {},
   "source": [
    "<u><h3>SOAL 2 (Total Bobot: 20%)</h3></u>\n",
    "<h3>Soal 2 A (Bobot: 10%)</h3>\n",
    "Carilah nilai eigen dan vektor eigen untuk matrix\n",
    "$$\\begin{bmatrix} 1 & 2 & 1 \\\\ 1 & 3 & 2 \\\\ 1 & 4 & 2 \\end{bmatrix}$$\n",
    "dengan menggunakan Power method. Anda bisa mencoba dengan vektor awal [1, 0, 0] dan 10 kali iterasi."
   ]
  },
  {
   "cell_type": "code",
   "execution_count": null,
   "metadata": {},
   "outputs": [],
   "source": [
    "import numpy as np\n",
    "\n",
    "#normalize function\n",
    "def normalize(x):\n",
    "    fac = abs(x).max()\n",
    "    if fac not in x:\n",
    "        fac *= -1\n",
    "    x_n = x/fac\n",
    "    return fac, x_n\n",
    "    \n",
    "# inisialisasi data awal\n",
    "x = np.array([1, 0, 0])\n",
    "a = np.array([[1, 2, 1], [1, 3, 2], [1, 4, 2]])\n",
    "\n",
    "\n",
    "# eigenvalue dan eigenvector\n",
    "for i in range(10):\n",
    "    x = np.dot(a, x)\n",
    "    lambda_1, x = normalize(x)\n",
    "\n",
    "print(\"Eigenvalue : \", lambda_1)\n",
    "print(\"Eigenvector : \", x)\n"
   ]
  },
  {
   "cell_type": "markdown",
   "metadata": {},
   "source": [
    "<h3>Soal 2 B (Bobot: 10%)</h3>\n",
    "Carilah seluruh nilai eigen dan vektor eigen untuk permasalahan di Soal 2 A dengan menggunakan <i>built-in function</i> <b>eig</b> dari numpy.linalg!"
   ]
  },
  {
   "cell_type": "code",
   "execution_count": null,
   "metadata": {},
   "outputs": [],
   "source": [
    "# Finding all eigenvalues and eigenvectors using built-in function eig (Bobot maks: 10%)\n",
    "# import seluruh libraries yang dibutuhkan\n",
    "\n",
    "\n",
    "# tampilkan seluruh eigenvalues dan eigenvectors dengan fungsi 'eig'\n",
    "\n"
   ]
  },
  {
   "cell_type": "markdown",
   "metadata": {},
   "source": [
    "<u><h3>SOAL 3 (Total Bobot: 20%)</h3></u>\n",
    "Misal diberikan data buatan yang diperoleh dengan formulasi $ 𝑥=𝑛𝑝.𝑙𝑖𝑛𝑠𝑝𝑎𝑐𝑒(0, 1, 101) $ dan $ 𝑦=15*𝑥+𝑛𝑝.𝑟𝑎𝑛𝑑𝑜𝑚.𝑟𝑎𝑛𝑑𝑜𝑚(𝑙𝑒𝑛(𝑥)) $.<br>\n",
    "Gunakan metode Least Squares Regression (LSR) dengan fungsi estimasi yang didefinisikan sebagai $ 𝑦 ̂=𝛼_1 𝑥+ 𝛼_2 $.<br>\n",
    "Bandingkan hasilnya dengan metode <b>Pseudo-inverse</b> dan <i>built-in function</i> <b>lstsq</b> dari numpy.<br>\n",
    "Plot titik-titik data yang dihasilkan dari formulasi tersebut bersama dengan hasil pendekatan LSR-nya."
   ]
  },
  {
   "cell_type": "code",
   "execution_count": null,
   "metadata": {},
   "outputs": [],
   "source": [
    "# bangun titik-titik data x dan y (Bobot: 2%)\n",
    "\n",
    "\n",
    "# bangun matrix A dan ubah y menjadi vektor kolom (Bobot: 2%)\n",
    "\n",
    "\n",
    "# Direct Least Square Regression (Bobot: 5%)\n",
    "\n",
    "\n",
    "# Pseudo-inverse method (Bobot: 3%)\n",
    "\n",
    "\n",
    "# Built-in lstsq dari numpy (Bobot: 3%)\n"
   ]
  },
  {
   "cell_type": "code",
   "execution_count": null,
   "metadata": {},
   "outputs": [],
   "source": [
    "# Plot hasil (Bobot maks: 5%)\n",
    "\n",
    "# import seluruh libraries yang dibutuhkan\n",
    "\n",
    "\n",
    "# sajikan plot hasil"
   ]
  },
  {
   "cell_type": "markdown",
   "metadata": {},
   "source": [
    "<u><h3>SOAL 4 (Total Bobot: 20%)</h3></u>\n",
    "<h3>Soal 4 A (Bobot: 10%)</h3>\n",
    "Buat sebuah definisi fungsi <b>my_lagrange(x, y, X)</b> dimana output Y adalah hasil interpolasi Lagrange dari titik-titik data yang ada di x dan y yang dihitung terhadap data-data di X.<br>\n",
    "Petunjuk: Gunakan <i>nested for-loop</i>, dimana <i>inner for-loop</i> digunakan untuk menghitung hasil kali dari Lagrange basis polynomial dan <i>outer for-loop</i> digunakan untuk menghitung jumlahan dari Lagrange polynomial. Jangan menggunakan fungsi lagrange yang tersedia di scipy."
   ]
  },
  {
   "cell_type": "code",
   "execution_count": null,
   "metadata": {},
   "outputs": [],
   "source": [
    "# my_lagrange function (Bobot maks: 10%)\n",
    "\n",
    "# definisi fungsi my_lagrange(x,y,X)\n",
    "\n",
    "\n"
   ]
  },
  {
   "cell_type": "markdown",
   "metadata": {},
   "source": [
    "<h3>Soal 4 B (Bobot: 10%)</h3>\n",
    "Dengan menggunakan fungsi yang telah didefinisikan pada Soal 4 A dan titik-titik data dummy yang didefinisikan sebagai berikut<br>\n",
    "$ x = [0, 2, 4, 6, 8] $<br>\n",
    "$ y = [3, 8, 4, 0, 2] $<br>\n",
    "X adalah nilai-nilai di sumbu X mulai dari titik awal x hingga titik akhir x yang dibagi menjadi 100 bagian sama panjang<br>\n",
    "Sajikan plot tiap titik data dan interpolasi Lagrange yang dihasilkan!"
   ]
  },
  {
   "cell_type": "code",
   "execution_count": null,
   "metadata": {},
   "outputs": [],
   "source": [
    "# bangun titik-titik data x, y, dan X (Bobot: 5%)\n",
    "\n",
    "\n",
    "# Plot hasil (Bobot maks: 5%)\n",
    "\n"
   ]
  },
  {
   "cell_type": "code",
   "execution_count": null,
   "metadata": {},
   "outputs": [],
   "source": []
  }
 ],
 "metadata": {
  "kernelspec": {
   "display_name": "Python 3",
   "language": "python",
   "name": "python3"
  },
  "language_info": {
   "codemirror_mode": {
    "name": "ipython",
    "version": 3
   },
   "file_extension": ".py",
   "mimetype": "text/x-python",
   "name": "python",
   "nbconvert_exporter": "python",
   "pygments_lexer": "ipython3",
   "version": "3.9.6"
  }
 },
 "nbformat": 4,
 "nbformat_minor": 2
}
