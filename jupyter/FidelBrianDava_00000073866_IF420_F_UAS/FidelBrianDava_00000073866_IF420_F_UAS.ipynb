{
 "cells": [
  {
   "attachments": {
    "image.png": {
     "image/png": "[encoded data removed]"
    }
   },
   "cell_type": "markdown",
   "metadata": {},
   "source": [
    "![image.png](attachment:image.png)\n",
    "<center>\n",
    "    <h3>UJIAN AKHIR SEMESTER GENAP TAHUN AKADEMIK 2023/2024</h3>\n",
    "    <h3>PROGRAM STUDI INFORMATIKA</h3>\n",
    "    <h3>FAKULTAS TEKNIK DAN INFORMATIKA</h3>\n",
    "    <h3>UNIVERSITAS MULTIMEDIA NUSANTARA</h3>\n",
    "\n",
    "<hr/>\n",
    "\n",
    "<h3 style='color:blue'>IF420 - Analisis Numerik</h3>\n",
    "\n",
    "<hr/>\n",
    "</center>"
   ]
  },
  {
   "cell_type": "markdown",
   "metadata": {},
   "source": [
    "<b>Petunjuk:</b>\n",
    "<ul>\n",
    "    <li>Gunakan file template jawaban UAS ini untuk <b>SOAL B</b></li>\n",
    "    <li>Setiap butir pertanyaan memiliki bobot penilaiannya masing-masing</li>\n",
    "    <li>Usahakan untuk mengerjakan setiap butir pertanyaan sesuai dengan perintah yang diberikan dan di tempat yang disediakan</li>\n",
    "    <li>Tulis nama dan NIM Anda di dalam blok cell di bawah ini! Tampilkan dengan perintah print!</li>\n",
    "</ul>"
   ]
  },
  {
   "cell_type": "code",
   "execution_count": null,
   "metadata": {},
   "outputs": [],
   "source": [
    "# input nama dan nim Anda di sini, lalu tampilkan dengan perintah print\n",
    "nama = 'Fidel Brian Dava'\n",
    "nim = '00000073866'\n",
    "print(f'Nama:\\n {nama}')\n",
    "print(f'NIM:\\n {nim}')"
   ]
  },
  {
   "cell_type": "markdown",
   "metadata": {},
   "source": [
    "<u><h3>SOAL 1 (Total Bobot: 20%)</h3></u>\n",
    "\n",
    "<h4>Soal 1 A (Bobot: 10%)</h4>\n",
    "Buatlah sebuah fungsi <b>my_num_diff_w_smoothing(x,y,n)</b> dengan output [dy, X], dimana x dan y adalah 1D numpy array dengan panjang yang sama dan n adalah suatu bilangan bulat positif.<br/>\n",
    "Pertama, fungsi tersebut akan membuat sebuah vektor yang terdiri atas titik-titik data y yang telah diperhalus (smoothed) dengan menerapkan formula\n",
    "<center>\n",
    "$ysmooth[i] = np.mean(y[i-n:i+n])$\n",
    "</center>\n",
    "Selanjutnya, fungsi tersebut akan menghitung dy, yakni turunan dari vektor y-smoothed tersebut dengan menggunakan metode <b>central difference</b>. Selain mengembalikan dy, fungsi tersebut juga akan mengembalikan output berupa 1D array X yang memiliki ukuran panjang yang sama dengan dy dan merepresentasikan nilai-nilai x dimana dy berlaku.<br/>\n",
    "Asumsikan bahwa data x berada dalam urutan naik tanpa ada dua nilai yang sama (tidak ada duplikasi) dan elemen-elemen x bisa jadi tidak memiliki jarak yang sama satu dengan lainnya. Perhatikan bahwa output dy akan memiliki 2n+2 titik lebih sedikit daripada y, serta asumsikan bahwa panjang dari y jauh lebih besar daripada 2n+2."
   ]
  },
  {
   "cell_type": "code",
   "execution_count": null,
   "metadata": {},
   "outputs": [],
   "source": [
    "# my_num_diff_w_smoothing function (Max Points: 10%)\n",
    "# import all needed libraries\n",
    "import numpy as np\n",
    "import matplotlib.pyplot as plt\n",
    "# plt.style.use('seaborn-poster')\n",
    "%matplotlib inline\n",
    "\n",
    "def my_num_diff_w_smoothing(x, y, n):\n",
    "    # put your codes here\n",
    "    ysmooth = np.zeros(len(y))\n",
    "    for i in range(n, len(y) - n):\n",
    "        ysmooth[i] = np.mean(y[i - n:i + n + 1])\n",
    "\n",
    "    dy = np.zeros(len(y) - 2 * n)\n",
    "    for i in range(n, len(y) - n):\n",
    "        dy[i - n] = (ysmooth[i + n] - ysmooth[i - n]) / (x[i + n] - x[i - n])\n",
    "\n",
    "    X = x[n:len(x) - n]\n",
    "    return [dy, X]"
   ]
  },
  {
   "cell_type": "markdown",
   "metadata": {},
   "source": [
    "<h4>Soal 1 B (Bobot: 10%)</h4>\n",
    "Lakukan pengecekan terhadap fungsi yang telah dibuat dengan nilai x, y, dan n yang didefinisikan sebagai berikut:<br/>\n",
    "\n",
    "$x = np.linspace(0, 2*np.pi, 100)$\n",
    "\n",
    "$y = np.cos(x) + np.random.randn(len(x))/100$\n",
    "\n",
    "$n = 4$\n",
    "\n",
    "Plot hasilnya untuk solusi fungsi tersebut serta bandingkan dengan plot turunan fungsi tersebut secara analitik, yakni <b>dy = -np.sin(x)</b>"
   ]
  },
  {
   "cell_type": "code",
   "execution_count": null,
   "metadata": {},
   "outputs": [],
   "source": [
    "# test case (Max Points: 5%)\n",
    "# put your codes here\n",
    "x = np.linspace(0, 2*np.pi, 100)\n",
    "y = np.sin(x) + np.random.randn(len(x))/100\n",
    "n = 4\n",
    "\n",
    "# plot the estimation and analytic results (Max Points: 5%)\n",
    "# put your codes here\n",
    "plt.figure(figsize=(10, 8))\n",
    "plt.plot(x, y, label='y')\n",
    "plt.plot(X, dy, label='dy (Numerical)')\n",
    "plt.plot(x[n:len(x) - n], dy_analytical, label='dy (Analytical)')\n",
    "plt.xlabel('x')\n",
    "plt.ylabel('y / dy')\n",
    "plt.legend()\n",
    "plt.show()"
   ]
  },
  {
   "cell_type": "markdown",
   "metadata": {},
   "source": [
    "<u><h3>SOAL 2 (Total Bobot: 10%)</h3></u>\n",
    "\n",
    "Kita telah mengetahui bahwa beberapa fungsi dapat dinyatakan sebagai jumlahan tak hingga atas polinomial (ingat kembali Deret Taylor). Fungsi-fungsi lainnya, terutama fungsi-fungsi periodik, dapat ditulis sebagai jumlahan tak hingga fungsi sinus dan cosinus, seperti ditunjukkan dalam persamaan **Deret Fourier** berikut:\n",
    "\n",
    "$f(x)=\\frac{A_0}{2}+\\sum_{n=1}^{\\infty} A_n cos(nx)+B_n sin(nx)$\n",
    "\n",
    "Dapat ditunjukkan bahwa nilai-nilai dari $A_n$ dan $B_n$ bisa dihitung dengan menggunakan dua rumus berikut:\n",
    "\n",
    "$A_n=\\frac{1}{π}\\int_{-π}^{π} f(x) cos(nx) dx$\n",
    "\n",
    "$B_n=\\frac{1}{π}\\int_{-π}^{π} f(x) sin(nx) dx$\n",
    "\n",
    "Sama seperti Deret Taylor, fungsi-fungsi juga dapat diperkirakan dengan memotong Deret Fourier pada suatu n=N. Deret Fourier dapat digunakan untuk memperkirakan beberapa fungsi khusus, seperti step function, dan banyak dipakai dalam aplikasi teknik seperti dalam pemrosesan sinyal.\n",
    "\n",
    "Buatlah sebuah fungsi <b>my_fourier_coef(f,n)</b>, dengan output $[A_n,B_n]$, dimana f adalah suatu obyek fungsi yang memiliki periode $2π$. Fungsi my_fourier_coef harus mampu menghitung koefisien ke-n Fourier, $A_n$ dan $B_n$, dalam Deret Fourier untuk f, yang didefinisikan dengan dua rumus di atas. Anda dapat menggunakan fungsi <b>quad</b> dari scipy.integrate untuk melakukan integrasi.\n",
    "\n",
    "Setelah itu, gunakan fungsi <b>plot_results(f,N)</b> yang telah disediakan untuk mengecek fungsi my_fourier_coef yang Anda siapkan dengan detail input berikut:<br/>\n",
    "(1) $f = np.sin(np.exp(x)), N = 2 $ <br/>\n",
    "(2) Obyek fungsi yang sama seperti di poin (1) namun dengan $N = 20$"
   ]
  },
  {
   "cell_type": "code",
   "execution_count": null,
   "metadata": {},
   "outputs": [],
   "source": [
    "# DON'T CHANGE CODE in this cell\n",
    "\n",
    "# import any needed libraries\n",
    "import numpy as np\n",
    "import matplotlib.pyplot as plt\n",
    "from scipy.integrate import quad \n",
    "\n",
    "# this is a given code to plot the results\n",
    "def plot_results(f, N):\n",
    "    x = np.linspace(-np.pi, np.pi, 10000)\n",
    "    [A0, B0] = my_fourier_coef(f, 0)\n",
    "    y = A0*np.ones(len(x))/2\n",
    "    for n in range(1, N):\n",
    "        [An, Bn] = my_fourier_coef(f, n)\n",
    "        y += An*np.cos(n*x)+Bn*np.sin(n*x)\n",
    "    plt.figure(figsize = (10,6))\n",
    "    plt.plot(x, f(x), label = 'analytic')\n",
    "    plt.plot(x, y, label = 'approximate')\n",
    "    plt.xlabel('x')\n",
    "    plt.ylabel('y')\n",
    "    plt.grid()\n",
    "    plt.legend()\n",
    "    plt.title(f'{N}th Order Fourier Approximation')\n",
    "    plt.show()"
   ]
  },
  {
   "cell_type": "code",
   "execution_count": null,
   "metadata": {},
   "outputs": [],
   "source": [
    "# my_fourier_coef(f,n) function (Max Points: 5%)\n",
    "\n",
    "def my_fourier_coef(f,n):\n",
    "    # put your codes here\n",
    "\n",
    "    \n",
    "    \n",
    "    \n",
    "    \n",
    "    \n",
    "# Test case 1 (Max Points: 3%)\n",
    "# put your codes here\n",
    "\n",
    "\n",
    "\n",
    "\n",
    "# Another test case 2 - different order (Max Points: 2%)\n",
    "# put your codes here\n",
    "\n",
    "\n"
   ]
  },
  {
   "cell_type": "markdown",
   "metadata": {},
   "source": [
    "<u><h3>SOAL 3 (Total Bobot: 20%)</h3></u>\n",
    "\n",
    "Persamaan diferensial $\\frac{df(t)}{dt}=cos(2t)$ dengan kondisi awal $f_0=0$ memiliki solusi exact $f(t)=0.5*sin(2t)$.\n",
    "Carilah perkiraan solusi terhadap permasalahan nilai awal ini di antara 0 hingga $np.pi$ dengan kenaikan langkah sebesar 0.05 menggunakan dua pendekatan, yakni:\n",
    "<ul>\n",
    "    <li>Explicit Euler Method</li>\n",
    "    <li>Fungsi built-in <b>solve_ivp</b> yang tersedia dalam module scipy.integrate</li>\n",
    "</ul>\n",
    "Selanjutnya, plot hasil perkiraannya baik dengan metode <b>eksplisit Euler</b> maupun dengan <b>solve_ivp</b> serta solusi <b>exact</b>-nya di dalam satu canvas gambar yang sama."
   ]
  },
  {
   "cell_type": "code",
   "execution_count": null,
   "metadata": {},
   "outputs": [],
   "source": [
    "# import libraries and define initial parameters (Max Points: 5%)\n",
    "from scipy.integrate import solve_ivp\n",
    "\n",
    "\n",
    "\n",
    "\n",
    "\n",
    "\n",
    "# Explicit Euler Method (Max Points: 5%)\n",
    "\n",
    "\n",
    "\n",
    "\n",
    "\n",
    "# using built-in function - solve_ivp (Max Points: 5%)\n",
    "\n",
    "\n",
    "\n",
    "# plot the results - exact solution, approx with Explicit Euler, approx with solve_ivp (Max Points: 5%)\n",
    "\n",
    "\n",
    "\n",
    "\n",
    "\n",
    "\n",
    "\n",
    "\n"
   ]
  },
  {
   "cell_type": "markdown",
   "metadata": {},
   "source": [
    "<u><h3>SOAL 4 (Total Bobot: 10%)</h3></u>\n",
    "\n",
    "Gunakan metode Finite Difference untuk menyelesaikan permasalahan nilai batas linear berikut: $y^\"-0.5x^2+6x=0$ dengan kondisi batas $y(0)=0$ dan $y(12)=0$. Ambil $n=6$.<br/>\n",
    "Plot hasilnya bersama dengan kondisi batas yang diberikan!"
   ]
  },
  {
   "cell_type": "code",
   "execution_count": null,
   "metadata": {},
   "outputs": [],
   "source": [
    "# initial parameters\n",
    "n = 6\n",
    "h = (12-0) / n\n",
    "x = np.linspace(0, 12, n+1)\n",
    "\n",
    "# Get A and b (Max Points: 5%)\n",
    "# put your codes here\n",
    "\n",
    "\n",
    "\n",
    "\n",
    "\n",
    "\n",
    "\n",
    "# Get b\n",
    "# put your codes here\n",
    "\n",
    "\n",
    "\n",
    "\n",
    "\n",
    "# solve the linear equations and plot the results (Max Points: 5%)\n",
    "# put your codes here\n",
    "\n",
    "\n",
    "\n",
    "\n",
    "\n",
    "# plot the results\n",
    "# put your codes here\n",
    "\n",
    "\n",
    "\n",
    "\n",
    "\n"
   ]
  },
  {
   "cell_type": "markdown",
   "metadata": {},
   "source": [
    "<u><h3>Soal 5 (Bobot: 20%)</h3></u>\n",
    "\n",
    "<h4>Soal 5 A (Bobot: 10%)</h4>\n",
    "Bangkitkan tiga sinyal berikut:<br/>\n",
    "Sinyal 1 adalah gelombang sinus dengan 3 Hz, amplitude 5 dan phase shift 3,<br/>\n",
    "Sinyal 2 adalah gelombang sinus dengan 4 Hz, amplitude 4 dan phase shift -2,<br/>\n",
    "Sinyal 3 adalah gelombang sinus dengan 5 Hz, amplitude 3 dan phase shift 2.<br/>\n",
    "Tambahkan ketiga gelombang ini bersama dengan sampling rate 128 Hz dan plot hasil gabungannya untuk 4 detik."
   ]
  },
  {
   "cell_type": "code",
   "execution_count": null,
   "metadata": {},
   "outputs": [],
   "source": [
    "# generate the combined signals (Max Points: 10%)\n",
    "# put your codes here\n",
    "\n",
    "\n",
    "\n",
    "\n",
    "\n",
    "\n",
    "\n",
    "\n",
    "\n",
    "\n",
    "\n",
    "\n",
    "\n",
    "\n",
    "\n",
    "\n"
   ]
  },
  {
   "cell_type": "markdown",
   "metadata": {},
   "source": [
    "<h4>Soal 5 B (Bobot: 10%)</h4>\n",
    "Tulis kembali fungsi <b>Fast Fourier Transform/ FFT(x)</b> yang telah kita bahas di pertemuan terakhir kelas. Fungsi tersebut akan menghitung FFT dari sinyal yang ada dan mengembalikan nilai-nilai FFT-nya.<br/>\n",
    "Terapkan fungsi FFT ini untuk sinyal yang baru saja kita buat di soal 5 A dan plot hasilnya!"
   ]
  },
  {
   "cell_type": "code",
   "execution_count": null,
   "metadata": {},
   "outputs": [],
   "source": [
    "# FFT function (Max Points: 5%)\n",
    "\n",
    "def FFT(x):\n",
    "    \n",
    "    \n",
    "    \n",
    "    \n",
    "    \n",
    "    \n",
    "    \n",
    "    \n",
    "    \n",
    "    \n",
    "    \n",
    "    \n",
    "    \n",
    "    \n",
    "    "
   ]
  },
  {
   "cell_type": "code",
   "execution_count": null,
   "metadata": {},
   "outputs": [],
   "source": [
    "# plot the results (Max Points: 5%)\n",
    "# put your codes here\n",
    "\n",
    "\n",
    "\n",
    "\n",
    "\n",
    "\n",
    "\n",
    "\n",
    "\n",
    "\n",
    "\n",
    "\n",
    "\n",
    "\n",
    "\n",
    "\n",
    "\n",
    "\n"
   ]
  },
  {
   "cell_type": "code",
   "execution_count": null,
   "metadata": {},
   "outputs": [],
   "source": []
  }
 ],
 "metadata": {
  "kernelspec": {
   "display_name": "Python 3",
   "language": "python",
   "name": "python3"
  },
  "language_info": {
   "codemirror_mode": {
    "name": "ipython",
    "version": 3
   },
   "file_extension": ".py",
   "mimetype": "text/x-python",
   "name": "python",
   "nbconvert_exporter": "python",
   "pygments_lexer": "ipython3",
   "version": "3.9.6"
  }
 },
 "nbformat": 4,
 "nbformat_minor": 2
}
