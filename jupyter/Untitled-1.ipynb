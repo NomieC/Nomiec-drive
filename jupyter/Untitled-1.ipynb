{
 "cells": [
  {
   "cell_type": "code",
   "execution_count": 1,
   "metadata": {},
   "outputs": [
    {
     "name": "stdout",
     "output_type": "stream",
     "text": [
      "Solusi: [ 0.41077423 -0.39811325 -0.37658262]\n",
      "Error: 0.0019351255685878751\n",
      "Jumlah iterasi: 5\n"
     ]
    }
   ],
   "source": [
    "import numpy as np\n",
    "\n",
    "def gauss_seidel(A, b, epsilon, max_iter):\n",
    "    \"\"\"\n",
    "    Menyelesaikan sistem persamaan linear dengan metode Gauss-Seidel.\n",
    "\n",
    "    Args:\n",
    "      A: Matriks koefisien sistem persamaan linear.\n",
    "      b: Vektor konstanta sistem persamaan linear.\n",
    "      epsilon: Batas toleransi error.\n",
    "      max_iter: Jumlah iterasi maksimum.\n",
    "\n",
    "    Returns:\n",
    "      Vektor solusi sistem persamaan linear, error, dan jumlah iterasi.\n",
    "    \"\"\"\n",
    "\n",
    "    n = len(A)\n",
    "    x = np.zeros(n)  # Solusi awal\n",
    "    error = np.inf\n",
    "    iter_count = 0\n",
    "\n",
    "    # Iterasi Gauss-Seidel\n",
    "    for _ in range(max_iter):\n",
    "        for i in range(n):\n",
    "            summation = 0\n",
    "            for j in range(n):\n",
    "                if j != i:\n",
    "                    summation += A[i][j] * x[j]\n",
    "            x[i] = (b[i] - summation) / A[i][i]\n",
    "\n",
    "        # Menghitung error\n",
    "        error = np.linalg.norm(np.dot(A, x) - b)\n",
    "\n",
    "        iter_count += 1\n",
    "\n",
    "        # Keluar loop jika error sudah di bawah batas toleransi\n",
    "        if error < epsilon:\n",
    "            break\n",
    "\n",
    "    return x, error, iter_count\n",
    "\n",
    "# Matriks koefisien dan vektor konstanta\n",
    "A = np.array([[4, 1, -2], [-2, -8, -7], [1, 1, 8]])\n",
    "b = np.array([2, 5, -3])\n",
    "\n",
    "# Nilai epsilon dan iterasi maksimum\n",
    "epsilon = 0.01\n",
    "max_iter = 100\n",
    "\n",
    "# Menjalankan metode Gauss-Seidel\n",
    "x, error, iter_count = gauss_seidel(A, b, epsilon, max_iter)\n",
    "\n",
    "# Menampilkan hasil\n",
    "print(f\"Solusi: {x}\")\n",
    "print(f\"Error: {error}\")\n",
    "print(f\"Jumlah iterasi: {iter_count}\")\n"
   ]
  }
 ],
 "metadata": {
  "kernelspec": {
   "display_name": "Python 3",
   "language": "python",
   "name": "python3"
  },
  "language_info": {
   "codemirror_mode": {
    "name": "ipython",
    "version": 3
   },
   "file_extension": ".py",
   "mimetype": "text/x-python",
   "name": "python",
   "nbconvert_exporter": "python",
   "pygments_lexer": "ipython3",
   "version": "3.9.6"
  }
 },
 "nbformat": 4,
 "nbformat_minor": 2
}
